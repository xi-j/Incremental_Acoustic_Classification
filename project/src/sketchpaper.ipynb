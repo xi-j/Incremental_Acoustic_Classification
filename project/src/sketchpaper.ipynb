{
 "cells": [
  {
   "cell_type": "code",
   "execution_count": 46,
   "id": "42ba5f63",
   "metadata": {
    "Collapsed": "false"
   },
   "outputs": [],
   "source": [
    "import numpy as np\n",
    "import os\n",
    "from os.path import join, basename\n",
    "from scipy.io import wavfile\n",
    "from IPython.display import Audio\n",
    "\n",
    "import matplotlib.pyplot as plt\n",
    "\n",
    "import scipy.signal as sps"
   ]
  },
  {
   "cell_type": "code",
   "execution_count": 74,
   "id": "0fb7dcc4",
   "metadata": {
    "Collapsed": "false"
   },
   "outputs": [],
   "source": [
    "import glob\n",
    "audio_list = glob.glob('/mnt/data/DCASE2019/Task1/TAU-urban-acoustic-scenes-2019-development/audio/*wav')"
   ]
  },
  {
   "cell_type": "code",
   "execution_count": 75,
   "id": "f1cf393c",
   "metadata": {
    "Collapsed": "false"
   },
   "outputs": [],
   "source": [
    "labels = ['airport', 'shopping_mall', 'metro_station', 'street_pedestrian', 'public_square', 'street_traffic', 'tram', 'bus', 'metro', 'park']"
   ]
  },
  {
   "cell_type": "code",
   "execution_count": 76,
   "id": "4235ab20",
   "metadata": {
    "Collapsed": "false"
   },
   "outputs": [],
   "source": [
    "cities = ['amsterdam', 'barcelona', 'helsinki', 'lisbon', 'london', 'lyon', 'madrid', 'milan', 'prague', 'paris', 'stockholm', 'vienna']"
   ]
  },
  {
   "cell_type": "code",
   "execution_count": 77,
   "id": "16cdb337",
   "metadata": {
    "Collapsed": "false"
   },
   "outputs": [],
   "source": [
    "tau_dict = {}"
   ]
  },
  {
   "cell_type": "code",
   "execution_count": 78,
   "id": "1941fca4",
   "metadata": {
    "Collapsed": "false"
   },
   "outputs": [],
   "source": [
    "for label in labels:\n",
    "    tau_dict[label] = {}\n",
    "    for city in cities:\n",
    "        tau_dict[label][city] = []\n",
    "    for audio in audio_list:\n",
    "        if label == 'metro':\n",
    "            if label in audio and 'station' not in audio:\n",
    "                for city in cities:\n",
    "                    if city in audio:\n",
    "                        tau_dict[label][city].append(basename(audio))\n",
    "        else:\n",
    "            if label in audio:\n",
    "                for city in cities:\n",
    "                    if city in audio:\n",
    "                        tau_dict[label][city].append(basename(audio))"
   ]
  },
  {
   "cell_type": "code",
   "execution_count": 84,
   "id": "568a598b",
   "metadata": {
    "Collapsed": "false"
   },
   "outputs": [
    {
     "name": "stdout",
     "output_type": "stream",
     "text": [
      "airport\n",
      "amsterdam 0\n",
      "barcelona 128\n",
      "helsinki 149\n",
      "lisbon 144\n",
      "london 145\n",
      "lyon 144\n",
      "madrid 0\n",
      "milan 144\n",
      "prague 144\n",
      "paris 156\n",
      "stockholm 158\n",
      "vienna 128\n",
      "0\n",
      "shopping_mall\n",
      "amsterdam 0\n",
      "barcelona 144\n",
      "helsinki 144\n",
      "lisbon 144\n",
      "london 144\n",
      "lyon 144\n",
      "madrid 0\n",
      "milan 144\n",
      "prague 144\n",
      "paris 144\n",
      "stockholm 144\n",
      "vienna 144\n",
      "0\n",
      "metro_station\n",
      "amsterdam 0\n",
      "barcelona 144\n",
      "helsinki 144\n",
      "lisbon 144\n",
      "london 144\n",
      "lyon 144\n",
      "madrid 0\n",
      "milan 144\n",
      "prague 144\n",
      "paris 144\n",
      "stockholm 144\n",
      "vienna 144\n",
      "0\n",
      "street_pedestrian\n",
      "amsterdam 0\n",
      "barcelona 145\n",
      "helsinki 145\n",
      "lisbon 144\n",
      "london 145\n",
      "lyon 144\n",
      "madrid 0\n",
      "milan 144\n",
      "prague 144\n",
      "paris 144\n",
      "stockholm 145\n",
      "vienna 140\n",
      "0\n",
      "public_square\n",
      "amsterdam 0\n",
      "barcelona 144\n",
      "helsinki 144\n",
      "lisbon 144\n",
      "london 144\n",
      "lyon 144\n",
      "madrid 0\n",
      "milan 144\n",
      "prague 144\n",
      "paris 144\n",
      "stockholm 144\n",
      "vienna 144\n",
      "0\n",
      "street_traffic\n",
      "amsterdam 0\n",
      "barcelona 144\n",
      "helsinki 144\n",
      "lisbon 144\n",
      "london 144\n",
      "lyon 144\n",
      "madrid 0\n",
      "milan 144\n",
      "prague 144\n",
      "paris 144\n",
      "stockholm 144\n",
      "vienna 144\n",
      "0\n",
      "tram\n",
      "amsterdam 0\n",
      "barcelona 143\n",
      "helsinki 145\n",
      "lisbon 144\n",
      "london 144\n",
      "lyon 144\n",
      "madrid 0\n",
      "milan 144\n",
      "prague 144\n",
      "paris 144\n",
      "stockholm 144\n",
      "vienna 144\n",
      "0\n",
      "bus\n",
      "amsterdam 0\n",
      "barcelona 144\n",
      "helsinki 144\n",
      "lisbon 144\n",
      "london 144\n",
      "lyon 144\n",
      "madrid 0\n",
      "milan 144\n",
      "prague 144\n",
      "paris 144\n",
      "stockholm 144\n",
      "vienna 144\n",
      "0\n",
      "metro\n",
      "amsterdam 0\n",
      "barcelona 141\n",
      "helsinki 144\n",
      "lisbon 144\n",
      "london 146\n",
      "lyon 144\n",
      "madrid 0\n",
      "milan 144\n",
      "prague 144\n",
      "paris 144\n",
      "stockholm 145\n",
      "vienna 144\n",
      "0\n",
      "park\n",
      "amsterdam 0\n",
      "barcelona 144\n",
      "helsinki 144\n",
      "lisbon 144\n",
      "london 144\n",
      "lyon 144\n",
      "madrid 0\n",
      "milan 144\n",
      "prague 144\n",
      "paris 144\n",
      "stockholm 144\n",
      "vienna 144\n",
      "0\n"
     ]
    }
   ],
   "source": [
    "for label in tau_dict:\n",
    "    print(label)\n",
    "    s = 0\n",
    "    for city in tau_dict[label]:\n",
    "        #print(city, len(tau_dict[label][city]))\n",
    "        print(city, len(tau_dict[label][city]))\n",
    "    print(s)"
   ]
  },
  {
   "cell_type": "code",
   "execution_count": 106,
   "id": "62f5e572",
   "metadata": {
    "Collapsed": "false"
   },
   "outputs": [],
   "source": [
    "train_dict = {}\n",
    "eval_dict = {}"
   ]
  },
  {
   "cell_type": "code",
   "execution_count": 107,
   "id": "dfe2a72a",
   "metadata": {
    "Collapsed": "false"
   },
   "outputs": [],
   "source": [
    "train_idx = 0\n",
    "eval_idx = 0\n",
    "for label in tau_dict:\n",
    "    train_num_total = 144*9\n",
    "    for city in cities:\n",
    "        train_num_city = int(np.ceil(len(tau_dict[label][city]) * 0.7))\n",
    "        train_num_city = min(train_num_total, train_num_city)\n",
    "        train_num_total -= train_num_city\n",
    "        for i in range(len(tau_dict[label][city])):\n",
    "            if i < train_num_city:\n",
    "                train_dict[train_idx] = tau_dict[label][city][i]\n",
    "                train_idx += 1\n",
    "            else:\n",
    "                eval_dict[eval_idx] = tau_dict[label][city][i]\n",
    "                eval_idx += 1"
   ]
  },
  {
   "cell_type": "code",
   "execution_count": 108,
   "id": "167c2d60",
   "metadata": {
    "Collapsed": "false"
   },
   "outputs": [
    {
     "data": {
      "text/plain": [
       "10105"
      ]
     },
     "execution_count": 108,
     "metadata": {},
     "output_type": "execute_result"
    }
   ],
   "source": [
    "len(train_dict)"
   ]
  },
  {
   "cell_type": "code",
   "execution_count": 109,
   "id": "0e86ef48",
   "metadata": {
    "Collapsed": "false"
   },
   "outputs": [
    {
     "data": {
      "text/plain": [
       "4295"
      ]
     },
     "execution_count": 109,
     "metadata": {},
     "output_type": "execute_result"
    }
   ],
   "source": [
    "len(eval_dict)"
   ]
  },
  {
   "cell_type": "code",
   "execution_count": 110,
   "id": "ea1ba024",
   "metadata": {
    "Collapsed": "false"
   },
   "outputs": [],
   "source": [
    "tau2019_dict = {}\n",
    "tau2019_dict['train'] = train_dict\n",
    "tau2019_dict['eval'] = eval_dict"
   ]
  },
  {
   "cell_type": "code",
   "execution_count": null,
   "id": "a0653e6b",
   "metadata": {
    "Collapsed": "false"
   },
   "outputs": [],
   "source": [
    "tau2019_dict"
   ]
  },
  {
   "cell_type": "code",
   "execution_count": 112,
   "id": "22eb70c9",
   "metadata": {
    "Collapsed": "false"
   },
   "outputs": [],
   "source": [
    "import pickle as pkl"
   ]
  },
  {
   "cell_type": "code",
   "execution_count": 113,
   "id": "83391e1b",
   "metadata": {
    "Collapsed": "false"
   },
   "outputs": [],
   "source": [
    "save_name = 'tau2019_dict_v2.pkl'\n",
    "with open(save_name, 'wb') as f:\n",
    "    pkl.dump(tau2019_dict, f, protocol=4)"
   ]
  },
  {
   "cell_type": "code",
   "execution_count": 94,
   "id": "a63253a4",
   "metadata": {
    "Collapsed": "false"
   },
   "outputs": [],
   "source": [
    "import librosa"
   ]
  },
  {
   "cell_type": "code",
   "execution_count": 102,
   "id": "a5ee0354",
   "metadata": {
    "Collapsed": "false"
   },
   "outputs": [],
   "source": [
    "(audio, fs) = librosa.core.load('/mnt/data/DCASE2019/Task1/TAU-urban-acoustic-scenes-2019-development/audio/airport-barcelona-0-4-a.wav', sr=32000, mono=True)"
   ]
  },
  {
   "cell_type": "code",
   "execution_count": 103,
   "id": "0b26a860",
   "metadata": {
    "Collapsed": "false"
   },
   "outputs": [
    {
     "data": {
      "image/png": "[encoded data removed]",
      "text/plain": [
       "<Figure size 640x480 with 1 Axes>"
      ]
     },
     "metadata": {},
     "output_type": "display_data"
    }
   ],
   "source": [
    "plt.plot(audio)\n",
    "plt.show()"
   ]
  },
  {
   "cell_type": "code",
   "execution_count": 104,
   "id": "2a2f5955",
   "metadata": {
    "Collapsed": "false"
   },
   "outputs": [
    {
     "data": {
      "text/plain": [
       "1.3497914"
      ]
     },
     "execution_count": 104,
     "metadata": {},
     "output_type": "execute_result"
    }
   ],
   "source": [
    "np.linalg.norm(audio)"
   ]
  },
  {
   "cell_type": "code",
   "execution_count": 105,
   "id": "f8c3f802",
   "metadata": {
    "Collapsed": "false"
   },
   "outputs": [
    {
     "data": {
      "text/plain": [
       "320000"
      ]
     },
     "execution_count": 105,
     "metadata": {},
     "output_type": "execute_result"
    }
   ],
   "source": [
    "len(audio)"
   ]
  },
  {
   "cell_type": "code",
   "execution_count": 114,
   "id": "c6d35dbc",
   "metadata": {
    "Collapsed": "false"
   },
   "outputs": [
    {
     "name": "stdout",
     "output_type": "stream",
     "text": [
      "0\n",
      "1\n",
      "2\n",
      "3\n",
      "4\n",
      "5\n",
      "6\n",
      "7\n",
      "8\n",
      "9\n"
     ]
    }
   ],
   "source": [
    "for i, label in enumerate(labels):\n",
    "    print(i)"
   ]
  },
  {
   "cell_type": "code",
   "execution_count": 115,
   "id": "4fee62a5",
   "metadata": {
    "Collapsed": "false"
   },
   "outputs": [],
   "source": [
    "import zipfile\n",
    "with zipfile.ZipFile('project/ESC-10-20211025T221612Z-001.zip', 'r') as zip_ref:\n",
    "    zip_ref.extractall('')"
   ]
  },
  {
   "cell_type": "code",
   "execution_count": 116,
   "id": "6ebcb709",
   "metadata": {
    "Collapsed": "false"
   },
   "outputs": [],
   "source": [
    "import jax\n",
    "import jax.numpy as jnp"
   ]
  },
  {
   "cell_type": "code",
   "execution_count": 117,
   "id": "eeb6bac5",
   "metadata": {
    "Collapsed": "false"
   },
   "outputs": [
    {
     "data": {
      "text/plain": [
       "DeviceArray([0., 0., 0., 0., 0.], dtype=float32)"
      ]
     },
     "execution_count": 117,
     "metadata": {},
     "output_type": "execute_result"
    }
   ],
   "source": [
    "jnp.zeros(5)"
   ]
  },
  {
   "cell_type": "code",
   "execution_count": 119,
   "id": "9f6784cc",
   "metadata": {
    "Collapsed": "false"
   },
   "outputs": [
    {
     "data": {
      "text/plain": [
       "[GpuDevice(id=0), GpuDevice(id=1), GpuDevice(id=2), GpuDevice(id=3)]"
      ]
     },
     "execution_count": 119,
     "metadata": {},
     "output_type": "execute_result"
    }
   ],
   "source": [
    "jax.devices()"
   ]
  },
  {
   "cell_type": "code",
   "execution_count": null,
   "id": "84c946a4",
   "metadata": {
    "Collapsed": "false"
   },
   "outputs": [],
   "source": [
    "'/mnt/data/DCASE2019/Task1/TAU-urban-acoustic-scenes-2019-development/audio/'"
   ]
  },
  {
   "cell_type": "code",
   "execution_count": 2,
   "id": "e874aa35",
   "metadata": {
    "Collapsed": "false"
   },
   "outputs": [],
   "source": [
    "import torch"
   ]
  },
  {
   "cell_type": "code",
   "execution_count": 3,
   "id": "d547281b",
   "metadata": {
    "Collapsed": "false"
   },
   "outputs": [
    {
     "data": {
      "text/plain": [
       "tensor([-1.5946, -0.6910, -0.0114, -1.0938, -1.9549, -0.3057,  1.0863, -0.3715,\n",
       "         0.2078, -2.1403])"
      ]
     },
     "execution_count": 3,
     "metadata": {},
     "output_type": "execute_result"
    }
   ],
   "source": [
    "torch.randn(10)"
   ]
  },
  {
   "cell_type": "code",
   "execution_count": 9,
   "id": "5787bc33",
   "metadata": {
    "Collapsed": "false"
   },
   "outputs": [
    {
     "name": "stdout",
     "output_type": "stream",
     "text": [
      "Sat Nov  6 03:00:40 2021       \n",
      "+-----------------------------------------------------------------------------+\n",
      "| NVIDIA-SMI 471.96       Driver Version: 471.96       CUDA Version: 11.4     |\n",
      "|-------------------------------+----------------------+----------------------+\n",
      "| GPU  Name            TCC/WDDM | Bus-Id        Disp.A | Volatile Uncorr. ECC |\n",
      "| Fan  Temp  Perf  Pwr:Usage/Cap|         Memory-Usage | GPU-Util  Compute M. |\n",
      "|                               |                      |               MIG M. |\n",
      "|===============================+======================+======================|\n",
      "|   0  NVIDIA GeForce ... WDDM  | 00000000:2B:00.0  On |                  N/A |\n",
      "|  0%   49C    P8    18W / 170W |   1344MiB / 12288MiB |     15%      Default |\n",
      "|                               |                      |                  N/A |\n",
      "+-------------------------------+----------------------+----------------------+\n",
      "                                                                               \n",
      "+-----------------------------------------------------------------------------+\n",
      "| Processes:                                                                  |\n",
      "|  GPU   GI   CI        PID   Type   Process name                  GPU Memory |\n",
      "|        ID   ID                                                   Usage      |\n",
      "|=============================================================================|\n",
      "|    0   N/A  N/A       480    C+G   ...ekyb3d8bbwe\\HxOutlook.exe    N/A      |\n",
      "|    0   N/A  N/A      1148    C+G   ...wekyb3d8bbwe\\Video.UI.exe    N/A      |\n",
      "|    0   N/A  N/A      1220    C+G   ...nputApp\\TextInputHost.exe    N/A      |\n",
      "|    0   N/A  N/A      1840    C+G   ...p-2.9.4\\GitHubDesktop.exe    N/A      |\n",
      "|    0   N/A  N/A      4776    C+G   Insufficient Permissions        N/A      |\n",
      "|    0   N/A  N/A      8468    C+G   ...ekyb3d8bbwe\\YourPhone.exe    N/A      |\n",
      "|    0   N/A  N/A      9140    C+G   ...cw5n1h2txyewy\\LockApp.exe    N/A      |\n",
      "|    0   N/A  N/A      9948    C+G   ...0\\extracted\\WeChatApp.exe    N/A      |\n",
      "|    0   N/A  N/A     11604    C+G   ...batNotificationClient.exe    N/A      |\n",
      "|    0   N/A  N/A     13300    C+G   ...lPanel\\SystemSettings.exe    N/A      |\n",
      "|    0   N/A  N/A     13864    C+G   ...perience\\NVIDIA Share.exe    N/A      |\n",
      "|    0   N/A  N/A     14464    C+G   ...y\\ShellExperienceHost.exe    N/A      |\n",
      "|    0   N/A  N/A     15300    C+G   ...tracted\\WechatBrowser.exe    N/A      |\n",
      "|    0   N/A  N/A     17464    C+G   ...lack\\app-4.21.1\\slack.exe    N/A      |\n",
      "|    0   N/A  N/A     17544    C+G   C:\\Windows\\explorer.exe         N/A      |\n",
      "|    0   N/A  N/A     17592    C+G   ...artMenuExperienceHost.exe    N/A      |\n",
      "|    0   N/A  N/A     17904    C+G   ...wekyb3d8bbwe\\Music.UI.exe    N/A      |\n",
      "|    0   N/A  N/A     18336    C+G   ...bbwe\\Microsoft.Photos.exe    N/A      |\n",
      "|    0   N/A  N/A     18976    C+G   ...5n1h2txyewy\\SearchApp.exe    N/A      |\n",
      "|    0   N/A  N/A     20628    C+G   ...me\\Application\\chrome.exe    N/A      |\n",
      "|    0   N/A  N/A     22872    C+G   ...CloudMusic\\cloudmusic.exe    N/A      |\n",
      "|    0   N/A  N/A     23324    C+G   ...obeNotificationClient.exe    N/A      |\n",
      "+-----------------------------------------------------------------------------+\n"
     ]
    }
   ],
   "source": [
    "if torch.cuda.is_available():\n",
    "    !nvidia-smi"
   ]
  },
  {
   "cell_type": "code",
   "execution_count": 128,
   "id": "aa89de2d",
   "metadata": {
    "Collapsed": "false"
   },
   "outputs": [],
   "source": [
    "device = torch.device('cuda:3')"
   ]
  },
  {
   "cell_type": "code",
   "execution_count": 5,
   "id": "b406c0bb",
   "metadata": {
    "Collapsed": "false"
   },
   "outputs": [],
   "source": [
    "import tarfile\n",
    "  \n",
    "# open file\n",
    "file = tarfile.open('../../../Datasets/UrbanSound8K.tar.gz')\n",
    "  \n",
    "# extracting file\n",
    "file.extractall('../../../Datasets')\n",
    "  \n",
    "file.close()"
   ]
  },
  {
   "cell_type": "code",
   "execution_count": 1,
   "id": "aadde4ca-ef07-4004-9cdf-5043cff65172",
   "metadata": {},
   "outputs": [],
   "source": [
    "import torch"
   ]
  },
  {
   "cell_type": "code",
   "execution_count": 2,
   "id": "4e6b3d86-693d-4c47-a5a1-35750377f807",
   "metadata": {},
   "outputs": [],
   "source": [
    "device = torch.device('cuda')"
   ]
  },
  {
   "cell_type": "code",
   "execution_count": 3,
   "id": "4e23f28b-796d-411b-b9df-38c41575da1c",
   "metadata": {},
   "outputs": [],
   "source": [
    "MODEL_URL = \"https://github.com/descriptinc/lyrebird-wav2clip/releases/download/v0.1.0-alpha/Wav2CLIP.pt\"\n",
    "checkpoint = torch.hub.load_state_dict_from_url(MODEL_URL, map_location=device, progress=True)"
   ]
  },
  {
   "cell_type": "code",
   "execution_count": 3,
   "id": "f6aca08b-0957-4f12-b57a-89ab53580668",
   "metadata": {},
   "outputs": [],
   "source": [
    "import torch\n",
    "import torch.nn as nn"
   ]
  },
  {
   "cell_type": "code",
   "execution_count": 5,
   "id": "a61b7ffe",
   "metadata": {},
   "outputs": [],
   "source": [
    "mlp_list = []\n",
    "        \n",
    "for i in range(3 - 1):\n",
    "    mlp_list.extend([nn.Linear(6, 6, bias=True), nn.ReLU()])\n",
    "\n",
    "mlp_list.extend([nn.Linear(6, 3, bias=True)])\n",
    "\n",
    "mlp = nn.Sequential(*mlp_list)"
   ]
  },
  {
   "cell_type": "code",
   "execution_count": 12,
   "id": "8080d8e1",
   "metadata": {},
   "outputs": [
    {
     "name": "stdout",
     "output_type": "stream",
     "text": [
      "[Parameter containing:\n",
      "tensor([[ 0.3706, -0.1137,  0.1858,  0.2009, -0.1697, -0.1703],\n",
      "        [ 0.1929,  0.0586, -0.1519,  0.1616, -0.1583, -0.0948],\n",
      "        [ 0.2028, -0.0512,  0.3489, -0.3956, -0.0806,  0.1788],\n",
      "        [ 0.0673, -0.1428, -0.3527,  0.0709, -0.2630,  0.0848],\n",
      "        [ 0.2574, -0.2530,  0.2900, -0.1903, -0.2877, -0.0469],\n",
      "        [-0.3394,  0.3585, -0.2147,  0.2341, -0.2090, -0.3089]],\n",
      "       requires_grad=True), Parameter containing:\n",
      "tensor([ 0.0206,  0.3230,  0.2339, -0.0931, -0.1198, -0.4043],\n",
      "       requires_grad=True)]\n",
      "[]\n",
      "[Parameter containing:\n",
      "tensor([[ 0.1496, -0.0138, -0.0735, -0.2912,  0.2618, -0.1947],\n",
      "        [ 0.2209, -0.0283, -0.2291,  0.2635,  0.2971, -0.2633],\n",
      "        [ 0.0688,  0.1923,  0.0650,  0.3288, -0.1370,  0.3544],\n",
      "        [-0.3748, -0.2383, -0.1542, -0.3551,  0.3050,  0.3804],\n",
      "        [ 0.2674, -0.0560,  0.1195,  0.1151,  0.1643, -0.3376],\n",
      "        [ 0.2958, -0.2206,  0.3543,  0.1536, -0.0121, -0.0718]],\n",
      "       requires_grad=True), Parameter containing:\n",
      "tensor([ 0.0561,  0.3898,  0.0442, -0.1836, -0.3729, -0.2911],\n",
      "       requires_grad=True)]\n",
      "[]\n",
      "[Parameter containing:\n",
      "tensor([[ 0.2710, -0.3425, -0.0373, -0.1070, -0.4009, -0.2306],\n",
      "        [ 0.3469, -0.0689,  0.2201,  0.1991, -0.0646, -0.2810],\n",
      "        [-0.2497, -0.1843, -0.2700, -0.0165, -0.0283,  0.1451]],\n",
      "       requires_grad=True), Parameter containing:\n",
      "tensor([ 0.0386, -0.2095, -0.2791], requires_grad=True)]\n"
     ]
    }
   ],
   "source": [
    "for layer in mlp:\n",
    "    print(list(layer.parameters()))"
   ]
  },
  {
   "cell_type": "code",
   "execution_count": 3,
   "id": "bb11cd6d",
   "metadata": {},
   "outputs": [],
   "source": [
    "import wav2clip\n",
    "import numpy as np"
   ]
  },
  {
   "cell_type": "code",
   "execution_count": 5,
   "id": "0803fcc1",
   "metadata": {},
   "outputs": [
    {
     "data": {
      "text/plain": [
       "(1, 3)"
      ]
     },
     "execution_count": 5,
     "metadata": {},
     "output_type": "execute_result"
    }
   ],
   "source": [
    "a = np.array([1,2,3])\n",
    "np.expand_dims(a, axis=0).shape"
   ]
  },
  {
   "cell_type": "code",
   "execution_count": 1,
   "id": "a1cb082a",
   "metadata": {},
   "outputs": [],
   "source": [
    "import torch"
   ]
  },
  {
   "cell_type": "code",
   "execution_count": 23,
   "id": "7666bcd3",
   "metadata": {},
   "outputs": [
    {
     "ename": "ImportError",
     "evalue": "cannot import name 'confusion_novelty_detector' from 'novelty_detect' (C:\\Users\\SB\\Desktop\\uiuc\\projects\\Incremental_Classification\\project\\src\\novelty_detect.py)",
     "output_type": "error",
     "traceback": [
      "\u001b[1;31m---------------------------------------------------------------------------\u001b[0m",
      "\u001b[1;31mImportError\u001b[0m                               Traceback (most recent call last)",
      "\u001b[1;32m~\\AppData\\Local\\Temp/ipykernel_15732/3880854740.py\u001b[0m in \u001b[0;36m<module>\u001b[1;34m\u001b[0m\n\u001b[1;32m----> 1\u001b[1;33m \u001b[1;32mfrom\u001b[0m \u001b[0mnovelty_detect\u001b[0m \u001b[1;32mimport\u001b[0m \u001b[0mconfusion_novelty_detector\u001b[0m\u001b[1;33m\u001b[0m\u001b[1;33m\u001b[0m\u001b[0m\n\u001b[0m",
      "\u001b[1;31mImportError\u001b[0m: cannot import name 'confusion_novelty_detector' from 'novelty_detect' (C:\\Users\\SB\\Desktop\\uiuc\\projects\\Incremental_Classification\\project\\src\\novelty_detect.py)"
     ]
    }
   ],
   "source": [
    "from novelty_detect import confusion_novelty_detector"
   ]
  },
  {
   "cell_type": "code",
   "execution_count": 16,
   "id": "11bc9e9a",
   "metadata": {},
   "outputs": [
    {
     "ename": "AttributeError",
     "evalue": "module 'novelty_detect' has no attribute 'confusion_novelty_detector'",
     "output_type": "error",
     "traceback": [
      "\u001b[1;31m---------------------------------------------------------------------------\u001b[0m",
      "\u001b[1;31mAttributeError\u001b[0m                            Traceback (most recent call last)",
      "\u001b[1;32m~\\AppData\\Local\\Temp/ipykernel_15732/382602794.py\u001b[0m in \u001b[0;36m<module>\u001b[1;34m\u001b[0m\n\u001b[1;32m----> 1\u001b[1;33m \u001b[0mnovelty_detect\u001b[0m\u001b[1;33m.\u001b[0m\u001b[0mconfusion_novelty_detector\u001b[0m\u001b[1;33m\u001b[0m\u001b[1;33m\u001b[0m\u001b[0m\n\u001b[0m",
      "\u001b[1;31mAttributeError\u001b[0m: module 'novelty_detect' has no attribute 'confusion_novelty_detector'"
     ]
    }
   ],
   "source": []
  },
  {
   "cell_type": "code",
   "execution_count": null,
   "id": "f95c746c",
   "metadata": {},
   "outputs": [],
   "source": []
  }
 ],
 "metadata": {
  "kernelspec": {
   "display_name": "audio_group",
   "language": "python",
   "name": "audio_group"
  },
  "language_info": {
   "codemirror_mode": {
    "name": "ipython",
    "version": 3
   },
   "file_extension": ".py",
   "mimetype": "text/x-python",
   "name": "python",
   "nbconvert_exporter": "python",
   "pygments_lexer": "ipython3",
   "version": "3.9.6"
  }
 },
 "nbformat": 4,
 "nbformat_minor": 5
}
