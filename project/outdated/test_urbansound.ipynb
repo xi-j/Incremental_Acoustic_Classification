{
 "cells": [
  {
   "cell_type": "code",
   "execution_count": 1,
   "id": "1069d1a6",
   "metadata": {
    "Collapsed": "false"
   },
   "outputs": [],
   "source": [
    "import torch\n",
    "import torch.nn as nn\n",
    "from torchvision.transforms import ToTensor\n",
    "from torch.utils.data import Dataset, DataLoader\n",
    "import numpy as np\n",
    "from tqdm import tqdm\n",
    "import matplotlib.pyplot as plt\n",
    "import os\n",
    "\n",
    "from src.UrbanSound import UrbanSoundDataset, UrbanSoundExposureGenerator\n",
    "from src.replay import ReplayExposureBlender\n",
    "\n",
    "def normalize_tensor_wav(x, eps=1e-10, std=None):\n",
    "    mean = x.mean(-1, keepdim=True)\n",
    "    if std is None:\n",
    "        std = x.std(-1, keepdim=True)\n",
    "    return (x - mean) / (std + eps)"
   ]
  },
  {
   "cell_type": "code",
   "execution_count": 2,
   "id": "3e0b892c",
   "metadata": {
    "Collapsed": "false"
   },
   "outputs": [],
   "source": [
    "exposure_generator = UrbanSoundExposureGenerator(\n",
    "    'UrbanSound8K', range(1, 10), sr=16000, \n",
    "    exposure_size=300, exposure_val_size=50, initial_K=4\n",
    ")\n",
    "\n",
    "initial_tr, initial_val, seen_classes = exposure_generator.get_initial_set()\n",
    "\n",
    "exposure_tr_list = []\n",
    "exposure_val_list = []\n",
    "exposure_label_list = []\n",
    "\n",
    "for i in range(len(exposure_generator)):\n",
    "    exposure_tr, exposure_val, label = exposure_generator[i]  \n",
    "    exposure_tr_list.append(exposure_tr)\n",
    "    exposure_val_list.append(exposure_val)\n",
    "    exposure_label_list.append(label)"
   ]
  },
  {
   "cell_type": "code",
   "execution_count": 3,
   "id": "659a10a3",
   "metadata": {
    "Collapsed": "false"
   },
   "outputs": [],
   "source": [
    "initial_tr_loader = DataLoader(initial_tr, batch_size=4, shuffle=True, num_workers=4)\n",
    "initial_val_loader = DataLoader(initial_tr, batch_size=4, shuffle=True, num_workers=4)"
   ]
  },
  {
   "cell_type": "code",
   "execution_count": 4,
   "id": "b3a22789",
   "metadata": {
    "Collapsed": "false"
   },
   "outputs": [],
   "source": [
    "for i, label in enumerate(exposure_label_list):\n",
    "    if label in seen_classes:\n",
    "        exposure_tr = exposure_tr_list[i]\n",
    "        exposure_val = exposure_val_list[i]\n",
    "        break\n",
    "        \n",
    "new_tr = ReplayExposureBlender(initial_tr, exposure_tr, seen_classes, label)\n",
    "#new_val = ReplayExposureBlender(initial_val, exposure_val, seen_classes, label)"
   ]
  },
  {
   "cell_type": "code",
   "execution_count": 10,
   "id": "6f7f4952",
   "metadata": {
    "Collapsed": "false"
   },
   "outputs": [],
   "source": [
    "new_tr_loader = DataLoader(new_tr, batch_size=4, shuffle=True, num_workers=4)\n",
    "#new_val_loader = DataLoader(new_val, batch_size=4, shuffle=True, num_workers=4)"
   ]
  },
  {
   "cell_type": "code",
   "execution_count": null,
   "id": "4428cdd5",
   "metadata": {
    "Collapsed": "false"
   },
   "outputs": [],
   "source": []
  }
 ],
 "metadata": {
  "kernelspec": {
   "display_name": "Python 3 (ipykernel)",
   "language": "python",
   "name": "python3"
  },
  "language_info": {
   "codemirror_mode": {
    "name": "ipython",
    "version": 3
   },
   "file_extension": ".py",
   "mimetype": "text/x-python",
   "name": "python",
   "nbconvert_exporter": "python",
   "pygments_lexer": "ipython3",
   "version": "3.9.5"
  }
 },
 "nbformat": 4,
 "nbformat_minor": 5
}
